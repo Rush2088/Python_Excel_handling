{
 "cells": [
  {
   "cell_type": "code",
   "execution_count": null,
   "metadata": {},
   "outputs": [],
   "source": [
    "\n",
    "from cell_lib import list2col, list2row\n",
    "from openpyxl import load_workbook\n",
    "workbook_name = 'test.xlsx'\n",
    "wb = load_workbook('test.xlsx')\n",
    "ws = wb['Sheet1']\n",
    "\n",
    "# New data to write:\n",
    "data_list = [['186 Spit','38 Awaba','3 Anzac','13 Shadforth']]\n",
    "\n",
    "# Write a column of values\n",
    "startcell= 'D14'   #enter starting cell number is A12 format\n",
    "list2col(startcell, data_list,ws)\n",
    "\n",
    "\n",
    "# Write a row of values\n",
    "startcell= 'B3'   #enter starting cell number is A12 format\n",
    "list2row(startcell, data_list,ws)\n",
    "\n",
    "\n",
    "wb.save(filename=workbook_name)"
   ]
  },
  {
   "cell_type": "code",
   "execution_count": 28,
   "metadata": {},
   "outputs": [],
   "source": [
    "from cell_lib import read_range\n",
    "from openpyxl import load_workbook\n",
    "\n",
    "workbook_name = 'test.xlsx'\n",
    "wb = load_workbook(workbook_name)\n",
    "ws = wb['Sheet1']\n",
    "\n",
    "A=read_range('A1','B6',ws)\n",
    "A_T=list(map(list, zip(*A))) # to transpose if required"
   ]
  }
 ],
 "metadata": {
  "kernelspec": {
   "display_name": "Python 3",
   "language": "python",
   "name": "python3"
  },
  "language_info": {
   "codemirror_mode": {
    "name": "ipython",
    "version": 3
   },
   "file_extension": ".py",
   "mimetype": "text/x-python",
   "name": "python",
   "nbconvert_exporter": "python",
   "pygments_lexer": "ipython3",
   "version": "3.7.0"
  }
 },
 "nbformat": 4,
 "nbformat_minor": 4
}
